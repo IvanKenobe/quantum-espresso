{
 "cells": [
  {
   "cell_type": "code",
   "execution_count": null,
   "outputs": [],
   "metadata": {},
   "source": [
    "# Import the necessary packages and modules\n",
    "import matplotlib.pyplot as plt\n",
    "import numpy as np\n",
    "\n",
    "# Open and read the file calc-ecut.dat\n",
    "#with open('calc-ecut.dat') as f:\n",
    "#    lines = f.readlines()\n",
    "ecut = np.array([line.split()[0] for line in lines],dtype=float)\n",
    "ener = np.array([line.split()[1] for line in lines],dtype=float)\n",
    "\n",
    "# Open and read the file calc-ecut.dat\n",
    "ecut, ener = np.loadtxt('calc-ecut.dat', delimiter=' ', unpack=True)\n",
    "\n",
    "# Create figure object\n",
    "plt.figure()\n",
    "\n",
    "# Plot the data, using scatter plot\n",
    "plt.scatter(ecut, ener, s=150)\n",
    "\n",
    "# Plot a dashed line at 80 Ry\n",
    "plt.axvline(ener[18], c='blue', ls='--')\n",
    "\n",
    "# Add the x and y-axis labels\n",
    "plt.xlabel('Cut-off energy (Ry)')\n",
    "plt.ylabel('Total energy (Ry)')\n",
    "\n",
    "# Set the axis limits\n",
    "plt.xlim(20, 80)\n",
    "plt.ylim(-204.97683049, -205.12041119)\n",
    "\n",
    "# Save a figure to the pdf file\n",
    "plt.savefig('plot-ecut.pdf')\n",
    "\n",
    "# Show plot\n",
    "plt.show()\n"
   ]
  }
 ]
}
